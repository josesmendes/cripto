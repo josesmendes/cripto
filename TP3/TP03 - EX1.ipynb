{
 "cells": [
  {
   "cell_type": "markdown",
   "metadata": {},
   "source": [
    "## TP 03 - EX 1\n",
    "\n",
    "Como em algumas tecnicas criptograficas o HNP é definido como um jogo com um oráculo, quando o oráculo é consultado com algum número específico, ele retorna um valor que revela os bits mais importantes deste número.\n",
    "\n",
    "$p$ é usado como modulo em operações aritimeticas para definir um campo finito $IF_p$ com $p$ elementos, neste caso ele é o próximo numero primo após $2^{16}$.\n",
    "\n",
    "$n$ é a quantidade de bits de $p$.\n",
    "\n",
    "$k$ é a quantidade de bits significativos, baseado na quantidade de bits de $p$.\n",
    "\n",
    "\n",
    "$$ k = \\sqrt{n} + \\sqrt{log_n2} $$\n",
    "\n",
    "O adversário tem vantagem em resolver o HNP quando $k$ é aproximadamente $\\sqrt{log p}$ usando $d = 2\\sqrt{n}$, neste caso o $k$ utilizado tem um valor mais significante.\n",
    "\n",
    "Para a função MSB (Most Significant Bit) é passado um valor de consulta e a função fica em *looping* até que seja encontrado um valor absoluto da subtração do valor passado com um z aleatório que satisfaça a equação:\n",
    "$$ answer < p / {2^{(k+1)}}$$\n",
    "\n",
    "A função \"cria_oraculo\" tem entrada do segredo (secret) e o chamar o oráculo, ele retorna um par \n",
    "(t, MSB), onde $t$ é um valor aleatório e MSB é uma aproximação dos bits mais significativos do produto do $secret$ e $t$, modulado por $p$."
   ]
  },
  {
   "cell_type": "code",
   "execution_count": 135,
   "metadata": {},
   "outputs": [],
   "source": [
    "p = next_prime(2^16)\n",
    "\n",
    "n = ceil(log(p, 2))\n",
    "\n",
    "k = ceil(sqrt(n)) + ceil(log(n, 2))\n",
    "\n",
    "d = 2 * ceil(sqrt(n))\n",
    "\n",
    "def msb(query):\n",
    "    \"\"\"Retorna o MSB da query, baseado nos parametros p e k\"\"\"   \n",
    "    while True:\n",
    "        z = randint(1, p-1)\n",
    "        answer = abs(query - z)\n",
    "        if answer < p / 2^(k+1):\n",
    "            break\n",
    "    return z\n",
    "\n",
    "def cria_oraculo(secret):\n",
    "    \"\"\"Retorna um oraculo MSB randomizado usando o valor de alpha\"\"\"\n",
    "    alpha = secret\n",
    "    def oraculo():\n",
    "        random_t = randint(1, p-1)\n",
    "        return random_t, msb((alpha * random_t) % p)\n",
    "    return oraculo"
   ]
  },
  {
   "cell_type": "markdown",
   "metadata": {},
   "source": [
    "A função *basis_v* constrói uma base para uma rede (lattice) usando as entradas do oraculo e parametros definidos no HNP, como o numero primo $p$ e a precisão dos bits significativos ($d$). Cada vetor base é composto por zeros e um numero significativo, definido como $p$. O ultimo vetor da base inclui as entradas do oraculo e o resltado é uma matriz que serve como a base para um lattice.\n",
    "\n",
    "Já a função $cvp$ vai encontrar o vetor mais proximo da rede (lattice), primeiramente aplica a redução via LLL a matrix base retornada da função *basis_v* o que faz com que os vetores da base sejam mais curtos e ortogonais, posteriormente usa-se o algoritmo do plano mais proximo de Babai, que faz uso da projeção ortogonal em um conjunto com arredondamento para determinar o ponto da rede mais próximo do vetor dado. O retorno desta função são os coeficientes do vetor aproximadamente mais próximo que encontrou, subtraindo do vetor de entrada $v$ a diferença calculada.\n",
    "\n",
    "O grupo tentou utilizar da função *closest_vector()* do Sagemath, porém não obteve sucesso, visto que esta função é extremamente lenta e com alto custo computacional, portanto, utilizamos a técnica citada acima."
   ]
  },
  {
   "cell_type": "code",
   "execution_count": 139,
   "metadata": {},
   "outputs": [],
   "source": [
    "def basis_v(oracle_inputs):\n",
    "    basis_vectors = []\n",
    "    for i in range(d):\n",
    "        p_vector = [0] * (d+1)\n",
    "        p_vector[i] = p\n",
    "        basis_vectors.append(p_vector)\n",
    "    basis_vectors.append(list(oracle_inputs) + [QQ(1)/QQ(p)])\n",
    "    return Matrix(QQ, basis_vectors)\n",
    "\n",
    "def cvp(basis, v):\n",
    "    BL = basis.LLL()\n",
    "    G, _ = BL.gram_schmidt()\n",
    "    _, n = BL.dimensions()\n",
    "    small = vector(ZZ, v)\n",
    "    for i in reversed(range(n)):\n",
    "        c = QQ(small * G[i]) / QQ(G[i] * G[i])\n",
    "        c = c.round()\n",
    "        small -= BL[i] * c\n",
    "    return (v - small).coefficients()"
   ]
  },
  {
   "cell_type": "code",
   "execution_count": 142,
   "metadata": {},
   "outputs": [
    {
     "name": "stdout",
     "output_type": "stream",
     "text": [
      "SEGREDO:  32400\n",
      "Vetor de respostas do Oraculo:\n",
      "(34968, 9914, 47797, 17000, 45367, 27856, 44171, 32768, 41763, 42842, 0)\n",
      "\n",
      "Matrix CVP com Lattice:\n",
      "[  65537       0       0       0       0       0       0       0       0       0       0]\n",
      "[      0   65537       0       0       0       0       0       0       0       0       0]\n",
      "[      0       0   65537       0       0       0       0       0       0       0       0]\n",
      "[      0       0       0   65537       0       0       0       0       0       0       0]\n",
      "[      0       0       0       0   65537       0       0       0       0       0       0]\n",
      "[      0       0       0       0       0   65537       0       0       0       0       0]\n",
      "[      0       0       0       0       0       0   65537       0       0       0       0]\n",
      "[      0       0       0       0       0       0       0   65537       0       0       0]\n",
      "[      0       0       0       0       0       0       0       0   65537       0       0]\n",
      "[      0       0       0       0       0       0       0       0       0   65537       0]\n",
      "[  17601   29407   37574   32589    5568   58881   60793   38682   38124   20603 1/65537]\n",
      "\n",
      "Vetor aproximado:\n",
      "[34963, 9894, 47825, 16993, 45376, 27867, 44202, 32749, 41761, 42855, 32400/65537]\n",
      "\n",
      "Segredo resolvido? True\n",
      "SEGREDO RECUPERADO: 32400\n"
     ]
    }
   ],
   "source": [
    "secret = randint(1, p-1)\n",
    "print(\"SEGREDO: \", secret)\n",
    "\n",
    "# Cria um oraculo usando o secret como escalar\n",
    "oracle = cria_oraculo(secret)\n",
    "\n",
    "inputs, answers = zip(*[ oracle() for _ in range(d) ])\n",
    "\n",
    "u = vector(ZZ, list(answers) + [0])\n",
    "print(\"Vetor de respostas do Oraculo:\\n%s\\n\" % str(u))\n",
    "\n",
    "lattice = basis_v(inputs)\n",
    "print(\"Matrix CVP com Lattice:\\n%s\\n\" % str(lattice))\n",
    "\n",
    "v = cvp(lattice, u)\n",
    "print(\"Vetor aproximado:\\n%s\\n\" % str(v))\n",
    "\n",
    "recovered_secret = (v[-1] * p) % p\n",
    "print('Segredo resolvido?', recovered_secret == secret)\n",
    "print(\"SEGREDO RECUPERADO: %d\" % recovered_secret)"
   ]
  }
 ],
 "metadata": {
  "kernelspec": {
   "display_name": "SageMath 10.2",
   "language": "sage",
   "name": "sagemath-10.2"
  },
  "language_info": {
   "codemirror_mode": {
    "name": "ipython",
    "version": 3
   },
   "file_extension": ".py",
   "mimetype": "text/x-python",
   "name": "python",
   "nbconvert_exporter": "python",
   "pygments_lexer": "ipython3",
   "version": "3.11.1"
  }
 },
 "nbformat": 4,
 "nbformat_minor": 2
}
