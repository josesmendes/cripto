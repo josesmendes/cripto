{
 "cells": [
  {
   "cell_type": "markdown",
   "id": "0e59acd9",
   "metadata": {},
   "source": [
    "# TP 2 - Exercício 1\n",
    "\n",
    "Neste exercicio nos foi proposto o seguinte:\n",
    "\n",
    "\n",
    "1. Construir uma classe Python que implemente o  EdDSA a partir do “standard” FIPS186-5\n",
    "    1. A implementação deve conter funções para assinar digitalmente e verificar a assinatura.\n",
    "    2. A implementação da classe deve usar  uma das “Twisted Edwards Curves” definidas no standard e escolhida  na iniciação da classe: a curva  “edwards25519” ou “edwards448”.\n",
    "    \n",
    "Primeiramente começamos por importar as bibliotecas do SageMath, Hashlib e Random conforme abaixo."
   ]
  },
  {
   "cell_type": "code",
   "execution_count": 1,
   "id": "116562dd",
   "metadata": {},
   "outputs": [],
   "source": [
    "from sage import *\n",
    "import hashlib\n",
    "import binascii\n",
    "import random"
   ]
  },
  {
   "cell_type": "markdown",
   "id": "cbf57b68",
   "metadata": {},
   "source": [
    "Para realizar os objetivos propostos, contruímos a classe abaixo, onde nela definimos os parametros para as curvas Edwards 25519 e 448. Esta classe recebe o nome da curva solicitada para definir os parametros a serem usados posteriormente para assinatura e verificação da assinatura.\n",
    "\n",
    "###### Curva Edwards25519:\n",
    "Esta curva, usada para segurança de 128 bits, tem por parametros o prime $ p = 2^{255} -19 $, d para essa curva é calculado através da formula $ d = -\\frac{(121665)}{(121666)} * mod(p) $ o que poderia ter sido setado como constante, visto que está presente na norma RFC 7748.\n",
    "\n",
    "Outros parâmetros importantes desta curva são os *Base Points*, onde Gx foi definido como na norma e Gy calculado através da formula.\n",
    "    \n",
    "###### Curva Edwards448: \n",
    "Para esta curva, usada em segurança de 224 bits, tem por parametros o prime calculado através da formula $ p = 2^{448} - 2^{224} - 1 $, d e os pontos base Gx e Gy foram definidos conforme a RFC 7748.\n",
    "    \n",
    "    \n",
    "Quandos os pontos base são definidos eles passam por uma verificação de consistencia, através da formula abaixo, para identificar se pertencem realmente a curva designada.\n",
    "    $$\n",
    "    ((a \\cdot Gx^2 + Gy^2) \\mod p) = ((1 \\cdot d \\cdot Gx^2 \\cdot Gy^2) \\mod p + 1)\n",
    "    $$\n",
    "    \n",
    "Onde ambos os lados da equação devem ser iguais para continuar a execução do código.\n",
    "    \n",
    "Nesta classe ainda são definidos os métodos de *add_point*, que recebe dois pontos (P, Q), usado para somar pontos através das formulas de Edwards. E, por fim, o método *scalar_multiplication*, que recebe um inteiro e um ponto (k, Q), utilizado para multiplicar um ponto na curva por um valor inteiro, utiliza da técnica de dobrar e somar para realizar essa multiplicação, pois este algoritmo aproveita a representação binária do inteiro **k** para realizar a multiplicação escalar de forma eficiente. Em cada passo, ele condicionalmente \"adiciona\" baseado no bit atual de **k** e \"duplica\" para se mover para a próxima posição binária. Esse método reduz significativamente o número de operações necessárias em comparação com a adição do ponto **Q** repetida **k** vezes."
   ]
  },
  {
   "cell_type": "code",
   "execution_count": 2,
   "id": "b1520977",
   "metadata": {},
   "outputs": [],
   "source": [
    "class TwistedEdwardsCurve:\n",
    "    def __init__(self, curve_name):\n",
    "        if curve_name == \"edwards25519\":\n",
    "            self.p = pow(2, 255) - 19\n",
    "            self.a = -1\n",
    "            self.d = (-121665 * inverse_mod(121666, self.p)) % self.p\n",
    "            #self.d = 37095705934669439343138083508754565189542113879843219016388785533085940283555\n",
    "        elif curve_name == \"edwards448\":\n",
    "            self.p = (pow(2, 448) - pow(2, 224)) - 1\n",
    "            self.a = 1\n",
    "            self.d = 611975850744529176160423220965553317543219696871016626328968936415087860042636474891785599283666020414768678979989378147065462815545017\n",
    "        else:\n",
    "            raise ValueError(\"Curva inválida: \" + curve_name)\n",
    "            \n",
    "    def BasePoint(self,curve_name):\n",
    "        if curve_name == \"edwards25519\":\n",
    "            u = 9\n",
    "            Gy = ((u-1) * inverse_mod(u+1, self.p)) % self.p\n",
    "            Gx = 15112221349535400772501151409588531511454012693041857206046113283949847762202\n",
    "        elif curve_name == \"edwards448\":\n",
    "            Gx = 345397493039729516374008604150537410266655260075183290216406970281645695073672344430481787759340633221708391583424041788924124567700732\n",
    "            Gy = 363419362147803445274661903944002267176820680343659030140745099590306164083365386343198191849338272965044442230921818680526749009182718\n",
    "        \n",
    "        assert ((self.a * Gx*Gx + Gy*Gy) % self.p) == ((1 * self.d*Gx*Gx*Gy*Gy) %self.p + 1)\n",
    "        return (Gx,Gy)\n",
    "    \n",
    "    def scalar_multiplication(self,k, Q):\n",
    "\n",
    "        addition_point = Q\n",
    "        \n",
    "        k_binary = bin(k)[2:]\n",
    "        \n",
    "        for i in range(1, len(k_binary)):\n",
    "            current_bit = k_binary[i:i+1]\n",
    "            \n",
    "            addition_point = self.add_point(addition_point, addition_point)\n",
    "            if current_bit == '1':\n",
    "                addition_point = self.add_point(addition_point, Q)\n",
    "        return addition_point\n",
    "\n",
    "    def add_point(self, P, Q):\n",
    "        x1, y1 = P\n",
    "        x2, y2 = Q\n",
    "        \n",
    "        x3 = (((x1 * y2 + y1 * x2) % self.p) * pow(1 + self.d*x1*x2*y1*y2, -1, self.p)) % self.p\n",
    "        y3 = (((y1 * y2 - self.a*x1*x2) % self.p) * pow(1 - self.d*x1*x2*y1*y2, -1, self.p)) % self.p\n",
    "        \n",
    "        #print((self.a * x3*x3 +y3*y3) % self.p), print ((1 + self.d *x3*x3*y3*y3) % self.p)\n",
    "\n",
    "        return (x3, y3)"
   ]
  },
  {
   "cell_type": "code",
   "execution_count": 3,
   "id": "4e91995b",
   "metadata": {},
   "outputs": [],
   "source": [
    "class EdDSA:\n",
    "    def __init__(self, curve_name):\n",
    "        self.curve = TwistedEdwardsCurve(curve_name)\n",
    "        \n",
    "    def Hashing(self, m_int):\n",
    "        return int(hashlib.sha256(str(m_int).encode('utf-8')).hexdigest(),16)\n",
    "    \n",
    "    def HashToInt(self, m):\n",
    "        encoded_text = m.encode('utf-8')\n",
    "        hex_text = encoded_text.hex()\n",
    "        return int(hex_text, 16)\n",
    "\n",
    "    def generate_keypair(self):\n",
    "        sk = random.getrandbits(256)  # Chave privada: 32 bytes aleatórios\n",
    "        basepoint = self.curve.BasePoint(curve_name)\n",
    "        pk = self.curve.scalar_multiplication(sk,basepoint)\n",
    "        return sk, pk\n",
    "\n",
    "    def sign(self, sk, pk, message):\n",
    "        \n",
    "        G = self.curve.BasePoint(curve_name)\n",
    "        \n",
    "        r = self.Hashing(self.Hashing(message) + message) % self.curve.p\n",
    "        \n",
    "        R = self.curve.scalar_multiplication(r, G)\n",
    "        \n",
    "        h = (R[0] + pk[0] + message) % self.curve.p\n",
    "        sig = (r + h * sk)\n",
    "        \n",
    "        return R, sig\n",
    "\n",
    "        \n",
    "    def verify(self, pk, R, sig, message):\n",
    "        \n",
    "        h = (R[0] + pk[0] + message) % self.curve.p\n",
    "        \n",
    "        basepoint = self.curve.BasePoint(curve_name)\n",
    "        \n",
    "        P1 = self.curve.scalar_multiplication(sig, basepoint)\n",
    "        P2 = self.curve.add_point(R, self.curve.scalar_multiplication(h, pk))\n",
    "        \n",
    "        return P1 == P2"
   ]
  },
  {
   "cell_type": "code",
   "execution_count": 4,
   "id": "084b56ff",
   "metadata": {},
   "outputs": [
    {
     "name": "stdout",
     "output_type": "stream",
     "text": [
      "Chave Privada:  22254001081564758336234301783059056861281055851502251825143935713228994510295\n",
      "Chave Pública:  (24650151864334005606970836204608015330437963314884282045896023061466087586521, 7499830443608988196427430701378931051194613758161542520310115584664922510094)\n",
      "Assinatura:  (12399122663955051457979918901410424170681720296829101103839845937406703397287, 7997106330477378755358977030532607155405239964962537368257268094674858511848) 824494595423734327645169215219133878515556648823446557694391514797672885284066206037191333646843825604082594265049272426715995334812261651694304016886759\n",
      "Verificação? True\n"
     ]
    }
   ],
   "source": [
    "curve_name = \"edwards25519\"\n",
    "\n",
    "# Gerando par de chaves\n",
    "sk, pk = EdDSA(curve_name).generate_keypair()\n",
    "print(\"Chave Privada: \", sk)\n",
    "print(\"Chave Pública: \", pk)\n",
    "\n",
    "# Mensagem a ser assinada\n",
    "message = \"Hello EdDSA!\"\n",
    "message = EdDSA(curve_name).HashToInt(message)\n",
    "\n",
    "R, S = EdDSA(curve_name).sign(sk, pk, message)  # Include the message argument here\n",
    "print(\"Assinatura: \", R, S)\n",
    "\n",
    "verify_signature = EdDSA(curve_name).verify(pk, R, S, message)\n",
    "print(\"Verificação?\", verify_signature)"
   ]
  },
  {
   "cell_type": "code",
   "execution_count": 5,
   "id": "d51cb6e7",
   "metadata": {},
   "outputs": [
    {
     "name": "stdout",
     "output_type": "stream",
     "text": [
      "Chave Privada:  53516344770831370338699432641166439271273406394510502091754526530327213290421\n",
      "Chave Pública:  (6126429005879128809539738510515677151381891099683913953238888731159948296557041373000225259106362638442882695877884859620090963901796, 545201785390415039569045511780940350579030948759124048832047131293810804864477226737573695579008960270368481231801500420349286796863989)\n",
      "Assinatura:  (357292502741317297606648517611683476641698744177769878254907419623208300781806815498980241710813233638323655477233028645145213522279208, 131517953651434496917308253346310708103862294909294595867722208679753288572036249154800081691900237683363652424214224148730691609811329) 19448852847630198157377118910724519247197699704176218089576444252865920511667319193078917295422479724884998715945919479743138666302680767812763839738223597616173436121395792663115555007758318627562740917121102593\n",
      "Verificação? True\n"
     ]
    }
   ],
   "source": [
    "curve_name = \"edwards448\"\n",
    "\n",
    "# Gerando par de chaves\n",
    "sk, pk = EdDSA(curve_name).generate_keypair()\n",
    "print(\"Chave Privada: \", sk)\n",
    "print(\"Chave Pública: \", pk)\n",
    "\n",
    "\n",
    "# Mensagem a ser assinada\n",
    "message = \"Hello EdDSA!\"\n",
    "message = EdDSA(curve_name).HashToInt(message)\n",
    "\n",
    "R, S = EdDSA(curve_name).sign(sk, pk, message)  # Include the message argument here\n",
    "print(\"Assinatura: \", R, S)\n",
    "\n",
    "verify_signature = EdDSA(curve_name).verify(pk, R, S, message)\n",
    "print(\"Verificação?\", verify_signature)"
   ]
  },
  {
   "cell_type": "code",
   "execution_count": null,
   "id": "9797cf50",
   "metadata": {},
   "outputs": [],
   "source": []
  }
 ],
 "metadata": {
  "kernelspec": {
   "display_name": "SageMath 10.2",
   "language": "sage",
   "name": "sagemath"
  },
  "language_info": {
   "codemirror_mode": {
    "name": "ipython",
    "version": 3
   },
   "file_extension": ".py",
   "mimetype": "text/x-python",
   "name": "python",
   "nbconvert_exporter": "python",
   "pygments_lexer": "ipython3",
   "version": "3.11.1"
  }
 },
 "nbformat": 4,
 "nbformat_minor": 5
}
