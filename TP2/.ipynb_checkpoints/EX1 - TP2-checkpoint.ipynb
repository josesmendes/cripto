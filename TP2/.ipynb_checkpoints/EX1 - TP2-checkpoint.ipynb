{
 "cells": [
  {
   "cell_type": "code",
   "execution_count": 1,
   "id": "116562dd",
   "metadata": {},
   "outputs": [],
   "source": [
    "from sage import *\n",
    "import hashlib\n",
    "import os\n",
    "import binascii\n",
    "import random"
   ]
  },
  {
   "cell_type": "code",
   "execution_count": 2,
   "id": "b1520977",
   "metadata": {},
   "outputs": [],
   "source": [
    "class TwistedEdwardsCurve:\n",
    "    def __init__(self, curve_name):\n",
    "        if curve_name == \"edwards25519\":\n",
    "            self.p = pow(2, 255) - 19\n",
    "            self.a = -1\n",
    "            self.d = 37095705934669439343138083508754565189542113879843219016388785533085940283555\n",
    "            self.E = EllipticCurve(GF(self.p), [0,486662,0,1,0])\n",
    "            \n",
    "        elif curve_name == \"edwards448\":\n",
    "            self.p = (pow(2, 448) - pow(2, 224)) - 1\n",
    "            self.a = 1\n",
    "            self.d = 611975850744529176160423220965553317543219696871016626328968936415087860042636474891785599283666020414768678979989378147065462815545017\n",
    "        else:\n",
    "            raise ValueError(\"Curva inválida: \" + curve_name)\n",
    "    \n",
    "    def BasePoint(self,curve_name):\n",
    "        if curve_name == \"edwards25519\":\n",
    "            u = 9\n",
    "            Gy = ((u-1) * pow(u+1, -1, self.p)) % self.p\n",
    "        \n",
    "            Gx = 15112221349535400772501151409588531511454012693041857206046113283949847762202\n",
    "            #Gy = 46316835694926478169428394003475163141307993866256225615783033603165251855960\n",
    "            assert ((self.a * Gx*Gx + Gy*Gy) % self.p) == ((1 * self.d*Gx*Gx*Gy*Gy) %self.p + 1)\n",
    "            return (Gx, Gy)\n",
    "        elif curve_name == \"edwards448\":\n",
    "            u = 5\n",
    "            Gx = 345397493039729516374008604150537410266655260075183290216406970281645695073672344430481787759340633221708391583424041788924124567700732\n",
    "            Gy = 363419362147803445274661903944002267176820680343659030140745099590306164083365386343198191849338272965044442230921818680526749009182718\n",
    "            assert ((self.a * Gx*Gx + Gy*Gy) % self.p) == ((1 * self.d*Gx*Gx*Gy*Gy) %self.p + 1)\n",
    "            return (Gx,Gy)\n",
    "    \n",
    "    def scalar_multiplication(self,k, Q):\n",
    "\n",
    "        addition_point = Q\n",
    "        \n",
    "        k_binary = bin(k)[2:]\n",
    "        \n",
    "        for i in range(1, len(k_binary)):\n",
    "            current_bit = k_binary[i:i+1]\n",
    "            \n",
    "            addition_point = self.add_point(addition_point, addition_point)\n",
    "            if current_bit == '1':\n",
    "                addition_point = self.add_point(addition_point, Q)\n",
    "        return addition_point\n",
    "\n",
    "    def add_point(self, P, Q):\n",
    "        x1, y1 = P\n",
    "        x2, y2 = Q\n",
    "        \n",
    "        x3 = (((x1 * y2 + y1 * x2) % self.p) * pow(1 + self.d*x1*x2*y1*y2, -1, self.p)) % self.p\n",
    "        y3 = (((y1 * y2 - self.a*x1*x2) % self.p) * pow(1 - self.d*x1*x2*y1*y2, -1, self.p)) % self.p\n",
    "        \n",
    "        #print((self.a * x3*x3 +y3*y3) % self.p), print ((1 + self.d *x3*x3*y3*y3) % self.p)\n",
    "\n",
    "        return (x3, y3)"
   ]
  },
  {
   "cell_type": "code",
   "execution_count": 3,
   "id": "4e91995b",
   "metadata": {},
   "outputs": [],
   "source": [
    "class EdDSA:\n",
    "    def __init__(self, curve_name):\n",
    "        self.curve = TwistedEdwardsCurve(curve_name)\n",
    "        \n",
    "    def Hashing(self, m_int):\n",
    "        return int(hashlib.sha256(str(m_int).encode('utf-8')).hexdigest(),16)\n",
    "    \n",
    "    def HashToInt(self, m):\n",
    "        encoded_text = m.encode('utf-8')\n",
    "        hex_text = encoded_text.hex()\n",
    "        return int(hex_text, 16)\n",
    "\n",
    "    def generate_keypair(self):\n",
    "        sk = random.getrandbits(256)  # Chave privada: 32 bytes aleatórios\n",
    "        basepoint = self.curve.BasePoint(curve_name)\n",
    "        pk = self.curve.scalar_multiplication(sk,basepoint)\n",
    "        return sk, pk\n",
    "\n",
    "    def sign(self, sk, pk, message):\n",
    "        \n",
    "        G = self.curve.BasePoint(curve_name)\n",
    "        \n",
    "        r = self.Hashing(self.Hashing(message) + message) % self.curve.p\n",
    "        \n",
    "        R = self.curve.scalar_multiplication(r, G)\n",
    "        \n",
    "        h = (R[0] + pk[0] + message) % self.curve.p\n",
    "        sig = (r + h * sk)\n",
    "        \n",
    "        return R, sig\n",
    "\n",
    "        \n",
    "    def verify(self, pk, R, sig, message):\n",
    "        \n",
    "        h = (R[0] + pk[0] + message) % self.curve.p\n",
    "        \n",
    "        basepoint = self.curve.BasePoint(curve_name)\n",
    "        \n",
    "        P1 = self.curve.scalar_multiplication(sig, basepoint)\n",
    "        P2 = self.curve.add_point(R, self.curve.scalar_multiplication(h, pk))\n",
    "        \n",
    "        return P1 == P2"
   ]
  },
  {
   "cell_type": "code",
   "execution_count": 4,
   "id": "084b56ff",
   "metadata": {},
   "outputs": [
    {
     "name": "stdout",
     "output_type": "stream",
     "text": [
      "Chave Privada:  60461274395439530610151806260056351033256855548236475197867703700126845190645\n",
      "Chave Pública:  (53944291287676774103545133748935761763897038466680564980154259644090240212423, 22158324746997396252912682823417460065171066865475283238939482404361725170940)\n",
      "Assinatura:  (12399122663955051457979918901410424170681720296829101103839845937406703397287, 7997106330477378755358977030532607155405239964962537368257268094674858511848) 510738715160545558246256474535570683220186080800048615040061232197525233599064515094130859454099029039799849133972551960259213304912007450060494161303994\n",
      "Verificação? True\n"
     ]
    }
   ],
   "source": [
    "curve_name = \"edwards25519\"\n",
    "\n",
    "# Gerando par de chaves\n",
    "sk, pk = EdDSA(curve_name).generate_keypair()\n",
    "print(\"Chave Privada: \", sk)\n",
    "print(\"Chave Pública: \", pk)\n",
    "\n",
    "\n",
    "# Mensagem a ser assinada\n",
    "message = \"Hello EdDSA!\"\n",
    "message = EdDSA(curve_name).HashToInt(message)\n",
    "\n",
    "R, S = EdDSA(curve_name).sign(sk, pk, message)  # Include the message argument here\n",
    "print(\"Assinatura: \", R, S)\n",
    "\n",
    "verify_signature = EdDSA(curve_name).verify(pk, R, S, message)\n",
    "print(\"Verificação?\", verify_signature)"
   ]
  },
  {
   "cell_type": "code",
   "execution_count": 5,
   "id": "d51cb6e7",
   "metadata": {},
   "outputs": [
    {
     "name": "stdout",
     "output_type": "stream",
     "text": [
      "Chave Privada:  33183922830112335542772650979263875185990091678710393181548252691362554753773\n",
      "Chave Pública:  (427009460697166855157880860278398081995190190429261348162586288953748770512212628912347435372143643838328013361237857121775438483210853, 483551263421271934170926634010521270734334547216659802685837201264850099661843552900132846514839789581951759442867109232540040373515962)\n",
      "Assinatura:  (357292502741317297606648517611683476641698744177769878254907419623208300781806815498980241710813233638323655477233028645145213522279208, 131517953651434496917308253346310708103862294909294595867722208679753288572036249154800081691900237683363652424214224148730691609811329) 1906855693285529577669646248220926512322763964639884946543227867105766990048283842615183051753031254912757709382655071560102502908709272555122249927984591138502352094915530291642157415920378359909875361755245235\n",
      "Verificação? True\n"
     ]
    }
   ],
   "source": [
    "curve_name = \"edwards448\"\n",
    "\n",
    "# Gerando par de chaves\n",
    "sk, pk = EdDSA(curve_name).generate_keypair()\n",
    "print(\"Chave Privada: \", sk)\n",
    "print(\"Chave Pública: \", pk)\n",
    "\n",
    "\n",
    "# Mensagem a ser assinada\n",
    "message = \"Hello EdDSA!\"\n",
    "message = EdDSA(curve_name).HashToInt(message)\n",
    "\n",
    "R, S = EdDSA(curve_name).sign(sk, pk, message)  # Include the message argument here\n",
    "print(\"Assinatura: \", R, S)\n",
    "\n",
    "verify_signature = EdDSA(curve_name).verify(pk, R, S, message)\n",
    "print(\"Verificação?\", verify_signature)"
   ]
  }
 ],
 "metadata": {
  "kernelspec": {
   "display_name": "SageMath 10.2",
   "language": "sage",
   "name": "sagemath"
  },
  "language_info": {
   "codemirror_mode": {
    "name": "ipython",
    "version": 3
   },
   "file_extension": ".py",
   "mimetype": "text/x-python",
   "name": "python",
   "nbconvert_exporter": "python",
   "pygments_lexer": "ipython3",
   "version": "3.11.1"
  }
 },
 "nbformat": 4,
 "nbformat_minor": 5
}
