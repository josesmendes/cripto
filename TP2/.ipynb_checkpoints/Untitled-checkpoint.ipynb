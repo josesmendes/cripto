{
 "cells": [
  {
   "cell_type": "code",
   "execution_count": 1,
   "id": "116562dd",
   "metadata": {},
   "outputs": [],
   "source": [
    "from sage import *\n",
    "import hashlib\n",
    "import os\n",
    "import binascii"
   ]
  },
  {
   "cell_type": "code",
   "execution_count": 2,
   "id": "fa16da2b",
   "metadata": {},
   "outputs": [
    {
     "name": "stdout",
     "output_type": "stream",
     "text": [
      "Requirement already satisfied: numpy in /private/var/tmp/sage-10.2-current/local/var/lib/sage/venv-python3.11.1/lib/python3.11/site-packages (1.26.1)\n",
      "\n",
      "\u001b[1m[\u001b[0m\u001b[34;49mnotice\u001b[0m\u001b[1;39;49m]\u001b[0m\u001b[39;49m A new release of pip is available: \u001b[0m\u001b[31;49m23.3.1\u001b[0m\u001b[39;49m -> \u001b[0m\u001b[32;49m24.0\u001b[0m\n",
      "\u001b[1m[\u001b[0m\u001b[34;49mnotice\u001b[0m\u001b[1;39;49m]\u001b[0m\u001b[39;49m To update, run: \u001b[0m\u001b[32;49mpip install --upgrade pip\u001b[0m\n",
      "Note: you may need to restart the kernel to use updated packages.\n"
     ]
    }
   ],
   "source": [
    "pip install numpy"
   ]
  },
  {
   "cell_type": "code",
   "execution_count": 3,
   "id": "5e859ee6",
   "metadata": {},
   "outputs": [
    {
     "name": "stdout",
     "output_type": "stream",
     "text": [
      "Requirement already satisfied: cryptography in /Users/paulocerqueira/.sage/local/lib/python3.11/site-packages (42.0.5)\n",
      "Requirement already satisfied: cffi>=1.12 in /private/var/tmp/sage-10.2-current/local/var/lib/sage/venv-python3.11.1/lib/python3.11/site-packages (from cryptography) (1.15.1)\n",
      "Requirement already satisfied: pycparser in /private/var/tmp/sage-10.2-current/local/var/lib/sage/venv-python3.11.1/lib/python3.11/site-packages (from cffi>=1.12->cryptography) (2.21)\n",
      "\n",
      "\u001b[1m[\u001b[0m\u001b[34;49mnotice\u001b[0m\u001b[1;39;49m]\u001b[0m\u001b[39;49m A new release of pip is available: \u001b[0m\u001b[31;49m23.3.1\u001b[0m\u001b[39;49m -> \u001b[0m\u001b[32;49m24.0\u001b[0m\n",
      "\u001b[1m[\u001b[0m\u001b[34;49mnotice\u001b[0m\u001b[1;39;49m]\u001b[0m\u001b[39;49m To update, run: \u001b[0m\u001b[32;49mpip install --upgrade pip\u001b[0m\n",
      "Note: you may need to restart the kernel to use updated packages.\n"
     ]
    }
   ],
   "source": [
    "pip install cryptography"
   ]
  },
  {
   "cell_type": "code",
   "execution_count": 4,
   "id": "1a36ed7c",
   "metadata": {},
   "outputs": [],
   "source": [
    "import cryptography\n"
   ]
  },
  {
   "cell_type": "code",
   "execution_count": 5,
   "id": "2326633a",
   "metadata": {},
   "outputs": [],
   "source": [
    "import numpy as np"
   ]
  },
  {
   "cell_type": "code",
   "execution_count": 64,
   "id": "b1520977",
   "metadata": {},
   "outputs": [],
   "source": [
    "class TwistedEdwardsCurve:\n",
    "    def __init__(self, curve_name):\n",
    "        if curve_name == \"edwards25519\":\n",
    "            self.p = 2**255 - 19\n",
    "            self.E = EllipticCurve(GF(self.p), [0,486662,0,1,0])\n",
    "            \n",
    "        elif curve_name == \"edwards448\":\n",
    "            self.curve = edwards448()\n",
    "            self.q = self.curve.field_modulus()\n",
    "        else:\n",
    "            raise ValueError(\"Curva inválida: \" + curve_name)\n",
    "    \n",
    "    def BasePointED25519(self):\n",
    "        x = 15112221349535400772501151409588531511454012693041857206046113283949847762202\n",
    "        y = 46316835694926478169428394003475163141307993866256225615783033603165251855960\n",
    "        return (x, y)\n",
    "    \n",
    "\n",
    "    \n",
    "    def scalar_multiplication(self,k, P):\n",
    "        if k == 0:\n",
    "            return (0, 1)  # Retornar o ponto neutro da curva\n",
    "        Q = P\n",
    "        R = None  # R será o ponto resultante\n",
    "        while k:\n",
    "            if k & 1:  # Se o bit menos significativo de k é 1\n",
    "                if R is None:\n",
    "                    R = Q\n",
    "                else:\n",
    "                    R = self.add_point(R, Q)  # Adiciona Q a R\n",
    "            Q = self.add_point(Q, Q)  # Dobra o ponto Q\n",
    "            k >>= 1  # Desloca k para a direita em 1 bit\n",
    "        return R\n",
    "        \n",
    "    def encode_pk(self, point):\n",
    "        x, y = point\n",
    "        y_bytes = int(y).to_bytes(32, byteorder='little')\n",
    "        return y_bytes\n",
    " \n",
    "    \n",
    "    def bytes_to_point(self, b):\n",
    "    # O campo prime para Edwards25519\n",
    "        p = 2**255 - 19\n",
    "    # Coeficiente d na equação da curva Edwards25519\n",
    "        d = -121665 * pow(121666, -1, p) % p\n",
    "\n",
    "    # Converter bytes para y, considerando o último bit para a paridade de x\n",
    "        y = int.from_bytes(b, byteorder='big')\n",
    "        x_parity = y >> 255\n",
    "        y &= (1 << 255) - 1  # Limpar o bit de paridade\n",
    "\n",
    "    # Resolver a equação da curva para x^2\n",
    "        u = (y * y - 1) % p\n",
    "        v = (d * y * y + 1) % p\n",
    "        x2 = u * pow(v, -1, p) % p  # x^2 = u/v mod p\n",
    "\n",
    "    # Resolver para x usando raízes quadradas modulares\n",
    "        x = pow(x2, (p + 3) // 8, p)\n",
    "        if (x * x - x2) % p != 0:\n",
    "            x = (x * pow(2, (p - 1) // 4, p)) % p\n",
    "\n",
    "    # Ajustar a paridade de x se necessário\n",
    "        if (x % 2 != x_parity):\n",
    "            x = p - x\n",
    "\n",
    "        return (x, y)\n",
    "\n",
    "    \n",
    "    def add_point(self, P, Q):\n",
    "        x1, y1 = P\n",
    "        x2, y2 = Q\n",
    "        p = self.p\n",
    "        a = -1  # Este é o valor correto de 'a' para Edwards25519.\n",
    "    \n",
    "    # O valor de 'd' para Edwards25519. Certifique-se de usar o valor correto.\n",
    "        d = -121665 * self.inv(121666) % p\n",
    "\n",
    "    # Calculando os componentes da fórmula de maneira direta e clara\n",
    "        x3 = (x1*y2 + x2*y1) % p\n",
    "        y3 = (y1*y2 - a*x1*x2) % p\n",
    "        denom = (1 + d*x1*x2*y1*y2) % p\n",
    "    \n",
    "    # Para evitar a divisão direta, usamos a inversão modular\n",
    "        denom_inv = self.inv(denom)\n",
    "    \n",
    "        x3 = (x3 * denom_inv) % p\n",
    "        y3 = (y3 * denom_inv) % p\n",
    "\n",
    "        return (x3, y3)\n",
    "\n",
    "    def inv(self, x):\n",
    "    # Utiliza o Teorema de Fermat's Little para a inversão modular.\n",
    "        return pow(x, self.p-2, self.p)\n",
    "   \n",
    "#ss\n",
    "class EdDSA:\n",
    "    def __init__(self, curve_name):\n",
    "        self.curve = TwistedEdwardsCurve(curve_name)\n",
    "        \n",
    "    def Hashing(self, m):\n",
    "        return hashlib.sha512(m).digest()\n",
    "    \n",
    "    def HashToInt(self, m):\n",
    "        h = self.Hashing(m)\n",
    "        return int.from_bytes(h, byteorder='big')\n",
    "\n",
    "    def generate_keypair(self):\n",
    "        sk = os.urandom(32)  # Chave privada: 32 bytes aleatórios\n",
    "        hash_sk = hashlib.sha512(sk).digest()  # Hash SHA-512 da chave privada\n",
    "        \n",
    "        # Clamping: Ajustar bits conforme as especificações Ed25519\n",
    "        hash_sk = bytearray(hash_sk)\n",
    "        hash_sk[0] &= 248\n",
    "        hash_sk[31] &= 127\n",
    "        hash_sk[31] |= 64\n",
    "        \n",
    "        # Gerar a chave pública\n",
    "        pk_point = self.curve.scalar_multiplication(int.from_bytes(hash_sk[:32], 'little'), self.curve.BasePointED25519())\n",
    "        pk = self.curve.encode_pk(pk_point)\n",
    "        return sk, pk\n",
    "\n",
    "    def sign(self, sk, message):\n",
    "        hash_sk = self.Hashing(sk)  # SHA-512 sobre a chave privada\n",
    "    # Converte os primeiros 32 bytes do hash para um inteiro do Python\n",
    "        s = int.from_bytes(hash_sk[:32], 'little')\n",
    "\n",
    "    # Aplica clamping para Ed25519 nos bits relevantes de 's'\n",
    "        s &= 0xF8FFFFFF  # Aplica máscara para os últimos 3 bits de s\n",
    "        s |= 0x40000000  # Define o bit 255 para 1\n",
    "        s &= 0x7FFFFFFF  # Define o bit 254 para 0\n",
    "\n",
    "    # Calcula 'r' usando o hash da parte relevante da chave privada e a mensagem\n",
    "        r = self.HashToInt(hash_sk[32:] + message)\n",
    "        R = self.curve.scalar_multiplication(r, self.curve.BasePointED25519())\n",
    "        R_enc = self.curve.encode_pk(R)\n",
    "    \n",
    "    # Obtem a representação de ponto da chave pública para 's'\n",
    "        pk_point = self.curve.scalar_multiplication(s, self.curve.BasePointED25519())\n",
    "        pk = self.curve.encode_pk(pk_point)\n",
    "    \n",
    "    # Calcula 'k' usando o hash de R, pk e a mensagem\n",
    "        k = self.HashToInt(R_enc + pk + message)\n",
    "\n",
    "    # Calcula 'S' como a soma de 'r' e 'k' multiplicado por 's', modulo p\n",
    "        S = (r + k * s) % self.curve.p\n",
    "\n",
    "    # Codifica 'S' como bytes\n",
    "        S_enc = int(S).to_bytes(32, byteorder='little')\n",
    "    \n",
    "        return R_enc, S_enc\n",
    "        \n",
    "    def verify(self, pk_encoded, R_encoded, S_encoded, message):\n",
    "        pk = self.curve.bytes_to_point(pk_encoded)\n",
    "        R = self.curve.bytes_to_point(R_encoded)\n",
    "        S = int.from_bytes(S_encoded, byteorder='little')\n",
    "\n",
    "    # Concatena R, pk, e a mensagem para calcular o hash H\n",
    "        concat = R_encoded + pk_encoded + message\n",
    "        H = self.HashToInt(concat)\n",
    "\n",
    "    # Calcula [H]pk + [S]G\n",
    "        H_pk = self.curve.scalar_multiplication(H, pk)\n",
    "        S_G = self.curve.scalar_multiplication(S, self.curve.BasePointED25519())\n",
    "        calculated_R = self.curve.add_point(H_pk, S_G)\n",
    "\n",
    "    # Compara o ponto R calculado com o ponto R da assinatura\n",
    "        return print(calculated_R), print(R)\n"
   ]
  },
  {
   "cell_type": "code",
   "execution_count": 65,
   "id": "084b56ff",
   "metadata": {},
   "outputs": [
    {
     "name": "stdout",
     "output_type": "stream",
     "text": [
      "Chave Privada:  b'\\xcd0>\\x8e\\x18H%\\xd5+_T6\\xe7\\x07\\xa8\\x83\\xdcg\\x82\\xa4\\x7fi\\xd5\\x03\\xcf\\x8c\\x93T;\\x02\\xc2\\x97'\n",
      "Chave Pública:  b'\\xe8\\xb8\\x8808\\xd6\\xd8\\xa9u\\x12\\xf9Q\\xbc\\xb0x\\xf3\\x0f5\\xda(\\xa3D\\xd1\\xf27aBR\\xba\\x97wj'\n",
      "Assinatura:  b'J\\xd2\\x87>3[X\\xc1o\\xa1\\xc3\\xfc?\\x0f\\x1c\\x87\\x8f2\\x8d\\x04(\\xaa\\xc5Q \\x93\\xbe)\\xe38_\"' b'\\xba\\xa0\\x90\\xe9\\xec\\xaa\\xda-[\\x13\\xa8\\xa5\\xad`c\\x87rx7\\xa1f\\xe0\\xcb\\x84x1\\xb4\\x18D7\\x17@'\n",
      "(54201427784555283899487552656633610209751722947273021212296138729141459401671, 38166799778808222227854033218019111359091683236984859697896283013173027764872)\n",
      "(46879182317340149435384286754696656966262406328861392820454090734533027414248, 33843122091447188266830661114230617319709880553442358328003912402089316736802)\n",
      "(None, None)\n"
     ]
    }
   ],
   "source": [
    "curve_name = \"edwards25519\"\n",
    "\n",
    "# Gerando par de chaves\n",
    "sk, pk = EdDSA(curve_name).generate_keypair()\n",
    "print(\"Chave Privada: \", sk)\n",
    "print(\"Chave Pública: \", pk)\n",
    "\n",
    "\n",
    "# Mensagem a ser assinada\n",
    "message = b\"Exemplo de mensagem para assinatura EdDSA\"\n",
    "\n",
    "R, S = EdDSA(curve_name).sign(sk, message)  # Include the message argument here\n",
    "print(\"Assinatura: \", R, S)\n",
    "\n",
    "verify_signature = EdDSA(curve_name).verify(pk, R, S, message)\n",
    "print(verify_signature)"
   ]
  },
  {
   "cell_type": "code",
   "execution_count": 8,
   "id": "d51cb6e7",
   "metadata": {},
   "outputs": [
    {
     "data": {
      "text/plain": [
       "68459919088386530093563380844831333248310053827079694763041459578015187676164"
      ]
     },
     "execution_count": 8,
     "metadata": {},
     "output_type": "execute_result"
    }
   ],
   "source": [
    "9069033483165579256249444165810986061298147879344115721450937340282206683136\n",
    "9069033483165579256249444165810986061298147879344115721450937340282206683136\n",
    "68459919088386530093563380844831333248310053827079694763041459578015187676164"
   ]
  },
  {
   "cell_type": "code",
   "execution_count": null,
   "id": "74354a47",
   "metadata": {},
   "outputs": [],
   "source": []
  }
 ],
 "metadata": {
  "kernelspec": {
   "display_name": "SageMath 10.2",
   "language": "sage",
   "name": "sagemath"
  },
  "language_info": {
   "codemirror_mode": {
    "name": "ipython",
    "version": 3
   },
   "file_extension": ".py",
   "mimetype": "text/x-python",
   "name": "python",
   "nbconvert_exporter": "python",
   "pygments_lexer": "ipython3",
   "version": "3.11.1"
  }
 },
 "nbformat": 4,
 "nbformat_minor": 5
}
