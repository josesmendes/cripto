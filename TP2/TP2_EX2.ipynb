{
 "cells": [
  {
   "cell_type": "markdown",
   "id": "bfbb6436",
   "metadata": {},
   "source": [
    "# TP02 - Exercício 2\n",
    "No exercicio 2 é nos pedido para implementar o NTT-CRT tal como é descrito nos apontamentos fornecidos pelo docente.\n",
    "\n",
    "O 1º passo para isto é descobrir um N ,que seja potencia de 2, e um primo que  verifique $\\,q \\equiv 1 \\bmod 2N\\,$.\n",
    "É de importantancia relembrar que o N escolhido tem de ser sufientemente grande para que $\\,\\mathcal{R}_{q,N}\\,$ contenha todos os polinómios que, previsivelmente, são relevantes à aplicação desta tecnica."
   ]
  },
  {
   "cell_type": "code",
   "execution_count": 1,
   "id": "7014007c",
   "metadata": {},
   "outputs": [],
   "source": [
    "n = 2048 #2^32\n",
    "q = next_prime(2 * n)\n",
    "i = 1\n",
    "while q % (2*n) != 1:\n",
    "    q = next_prime(n + i) \n",
    "    i += 1\n"
   ]
  },
  {
   "cell_type": "markdown",
   "id": "c36a7501",
   "metadata": {},
   "source": [
    "###### NTT:\n",
    "\n",
    "A NTT tranforma um polinomio do dominio do tempo (coeficientes do polinomio) para o dominio da frequencia (valores do polinomio em pontos especifico), onde as etapas basicas da NTT são:\n",
    "    \n",
    "   1. Escolha de um numero primo q, feito anteriormente. Isso normalemnte garante a existencia de uma raiz primitiva n-esima de unidade.\n",
    "   2. Um elemento $ \\xi $ no campo **GF(q)** tal que suas potencias geram um ciclo de ordem n. esse elemento é usado para avaliar o polinomio em pontos especificos, facilitando a transformação.\n",
    "   3. A NTT transforma o vetor de coeficientes de um polinomio em um vetor de valores avaliados em potencias da raiz de unidade. A transformação inversa reconstroi o vetor de coeficientes original a partir do vetor transformado.\n",
    "   \n",
    "###### CRT:\n",
    "\n",
    "É empregado na reconstrução do polinomio após a palicação da NTT, onde primeiramente é calculado o conjunto base para a reconstrução do polinomio original. Cada elemento da base corresponde a um polinomio que é 0 em todos os pontos exceto um, onde o valor é 1.\n",
    "\n",
    "O vetor **ff** representa os valores do polinomio transformado pela NTT. Cada elemento de ff corresponde a um valor do polinomio em um ponto especifico. O **fff** reconstrói o polinomio original no dominio do tempo a partir de seus valores no dominio da frequencia. Isto é feito multiplicando cada valor transformado pelo seu correspondente polinomio na base do CRT e somando todos os produtos. \n",
    "\n",
    "Por fim se verifica a igualdade entre **f** e **fff** visto que foi efetuada a inversa da NTT (facilitada pelo uso do CRT) que reconstrói o vetor de entrada original.\n",
    "\n",
    "Nenhuma informação é perdida no processo já que as operações são realizadas em um campo finito $ GF(q) $, garantindo que os calculos sejam exatos e não sujeitos a erros de arredondamento, como poderia acontecer com números de ponto flutuante.\n"
   ]
  },
  {
   "cell_type": "code",
   "execution_count": 2,
   "id": "ac084224",
   "metadata": {
    "scrolled": false
   },
   "outputs": [
    {
     "name": "stdout",
     "output_type": "stream",
     "text": [
      "f=fff:True\n"
     ]
    }
   ],
   "source": [
    "F = GF(q)\n",
    "R = PolynomialRing(F, name=\"w\")\n",
    "w = R.gen()\n",
    "g = (w^n + 1)\n",
    "xi = g.roots(multiplicities=False)[-1]\n",
    "rs = [xi^(2*i+1)  for i in range(n)] \n",
    "base = crt_basis([(w - r) for r in rs])  \n",
    "\n",
    "f = R.random_element(1023)\n",
    "\n",
    "u = f.list()\n",
    "preenchido = u + [0]*(n-len(u)) \n",
    "\n",
    "def ntt(xi,N,f):\n",
    "    if N==1:\n",
    "        return f\n",
    "    N_ = N/2 ; xi2 =  xi^2  \n",
    "    f_plus = [f[2*i]   for i in range(N_)] ; f_minus = [f[2*i+1] for i in range(N_)] \n",
    "    ff_plus = ntt(xi2,N_,f_plus) ; ff_minus = ntt(xi2,N_,f_minus)  \n",
    "    s  = xi ; ff = [F for i in range(N)] \n",
    "    for i in range(N_):\n",
    "        a = ff_plus[i] ; b = s*ff_minus[i]  \n",
    "        ff[i] = a + b ; ff[i + N_] = a - b \n",
    "        s = s * xi2                     \n",
    "    return ff\n",
    "\n",
    "ff = ntt(xi,n,preenchido)\n",
    "fff = sum([ff[i]*base[i] for i in range(n)])\n",
    "print(f\"f=fff:{f == fff}\")"
   ]
  }
 ],
 "metadata": {
  "kernelspec": {
   "display_name": "SageMath 10.2",
   "language": "sage",
   "name": "sagemath"
  },
  "language_info": {
   "codemirror_mode": {
    "name": "ipython",
    "version": 3
   },
   "file_extension": ".py",
   "mimetype": "text/x-python",
   "name": "python",
   "nbconvert_exporter": "python",
   "pygments_lexer": "ipython3",
   "version": "3.10.14"
  }
 },
 "nbformat": 4,
 "nbformat_minor": 5
}
