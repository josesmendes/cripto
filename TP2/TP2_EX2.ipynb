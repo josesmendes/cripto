{
 "cells": [
  {
   "cell_type": "markdown",
   "id": "bfbb6436",
   "metadata": {},
   "source": [
    "No exercicio 2 é nos pedido para implementar o NTT-CRT tal como é descrito nos apontamentos fornecidos pelo docente.\n",
    "\n",
    "O 1º passo para isto é descobrir um N ,que seja potencia de 2, e um primo que  verifique $$\\,q \\equiv 1 \\bmod 2N\\,$$ \n",
    "É de importante relembrar que o N escolhido tem de ser sufientemente grande para que $$\\,\\mathcal{R}_{q,N}\\,$$ contenha todos os polinómios que, previsivelmente, são relevantes à aplicação desta tecnica"
   ]
  },
  {
   "cell_type": "code",
   "execution_count": 1,
   "id": "7014007c",
   "metadata": {},
   "outputs": [],
   "source": [
    "n = 2048 #2^32\n",
    "q = next_prime(2 * n)\n",
    "i = 1\n",
    "while q % (2*n) != 1:\n",
    "    q = next_prime(n + i) \n",
    "    i += 1\n"
   ]
  },
  {
   "cell_type": "markdown",
   "id": "c36a7501",
   "metadata": {},
   "source": [
    "Após descobertos podemos então gerar as variaveis necessárias para a execução deste algoritmo.\n",
    "Iremos então criar um corpo baseado no primo calculado préviamente, $\\,\\mathbb{F}_q\\,$. A partir deste corpo somos capazes de gerar o polinómio do tipo $\\,^N + 1$. Com isto podemos utilzar uma das suas raizes, $\\xi$ ,  para calcular $\\,\\omega,$, uma vez que $\\,\\omega \\equiv  \\xi^2\\,$"
   ]
  },
  {
   "cell_type": "code",
   "execution_count": 2,
   "id": "ac084224",
   "metadata": {
    "scrolled": false
   },
   "outputs": [
    {
     "name": "stdout",
     "output_type": "stream",
     "text": [
      "True\n"
     ]
    }
   ],
   "source": [
    "F = GF(q)\n",
    "R = PolynomialRing(F, name=\"w\")\n",
    "w = R.gen()\n",
    "g = (w^n + 1)\n",
    "xi = g.roots(multiplicities=False)[-1]\n",
    "rs = [xi^(2*i+1)  for i in range(n)] \n",
    "base = crt_basis([(w - r) for r in rs])  \n",
    "\n",
    "f = R.random_element(1023)\n",
    "\n",
    "u = f.list()\n",
    "preenchido = u + [0]*(n-len(u)) \n",
    "\n",
    "def ntt(xi,N,f):\n",
    "    if N==1:\n",
    "        return f\n",
    "    N_ = N/2 ; xi2 =  xi^2  \n",
    "    f_plus = [f[2*i]   for i in range(N_)] ; f_minus = [f[2*i+1] for i in range(N_)] \n",
    "    ff_plus = ntt(xi2,N_,f_plus) ; ff_minus = ntt(xi2,N_,f_minus)  \n",
    "    s  = xi ; ff = [F for i in range(N)] \n",
    "    for i in range(N_):\n",
    "        a = ff_plus[i] ; b = s*ff_minus[i]  \n",
    "        ff[i] = a + b ; ff[i + N_] = a - b \n",
    "        s = s * xi2                     \n",
    "    return ff\n",
    "\n",
    "ff = ntt(xi,n,preenchido)\n",
    "fff = sum([ff[i]*base[i] for i in range(n)])\n",
    "print(f == fff)"
   ]
  }
 ],
 "metadata": {
  "kernelspec": {
   "display_name": "SageMath 10.2",
   "language": "sage",
   "name": "sagemath"
  },
  "language_info": {
   "codemirror_mode": {
    "name": "ipython",
    "version": 3
   },
   "file_extension": ".py",
   "mimetype": "text/x-python",
   "name": "python",
   "nbconvert_exporter": "python",
   "pygments_lexer": "ipython3",
   "version": "3.10.14"
  }
 },
 "nbformat": 4,
 "nbformat_minor": 5
}
