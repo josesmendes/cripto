{
 "cells": [
  {
   "cell_type": "markdown",
   "id": "ac9d00a4-8a48-418e-9aae-4bb3651b1a61",
   "metadata": {},
   "source": [
    "Neste trabalho é nos pedido para, através do uso dos pacotes Cryptography e ascon, criar uma comunicação privada assíncrona em modo \n",
    "“Lightweight Cryptography” entre um agente Emitter e um agente Receiver. \n",
    "Para além disto é necessário;\n",
    "- garantir atenticação dos criptogramas e metadados em modo cifra,\n",
    "- as chaves de cifra autenticação  e  os “nounces” são gerados por um gerador pseudo aleatório (PRG)\n",
    "- utilização do pacote asyncio para implementar a comunicação entre cliente servidor"
   ]
  },
  {
   "cell_type": "code",
   "execution_count": null,
   "id": "ddc8a6f8-e3ed-4ad4-8d9c-c65799652db6",
   "metadata": {},
   "outputs": [],
   "source": []
  }
 ],
 "metadata": {
  "kernelspec": {
   "display_name": "Python 3 (ipykernel)",
   "language": "python",
   "name": "python3"
  },
  "language_info": {
   "codemirror_mode": {
    "name": "ipython",
    "version": 3
   },
   "file_extension": ".py",
   "mimetype": "text/x-python",
   "name": "python",
   "nbconvert_exporter": "python",
   "pygments_lexer": "ipython3",
   "version": "3.10.13"
  }
 },
 "nbformat": 4,
 "nbformat_minor": 5
}
