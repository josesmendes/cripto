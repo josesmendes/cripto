{
 "cells": [
  {
   "cell_type": "markdown",
   "id": "ac9d00a4-8a48-418e-9aae-4bb3651b1a61",
   "metadata": {},
   "source": [
    "Neste trabalho é nos pedido para, através do uso dos pacotes Cryptography e Ascon, criar uma comunicação privada assíncrona em modo \n",
    "“Lightweight Cryptography” entre um agente Emitter e um agente Receiver. \n",
    "Para além disto é necessário;\n",
    "- Garantir atenticação dos criptogramas e metadados em modo cifra,\n",
    "- As chaves de cifra autenticação  e  os “nounces” são gerados por um gerador pseudo aleatório (PRG)\n",
    "- Utilização do pacote asyncio para implementar a comunicação entre cliente servidor"
   ]
  },
  {
   "cell_type": "markdown",
   "id": "9a220069",
   "metadata": {},
   "source": [
    "Para chegarmos ao resultado pretendido foi nos proposto que usassemos a biblioteca Ascon, que possui uma familia de cifragem e hashing, juntamente com a biblioteca asyncio para a criação do servidor de Emissão e o de Recebimento da mensagem.\n",
    "\n",
    "Usamos também o nest_asyncio para podermos usar o asyncio no jupter notebook de maneira que os servidores ficassem em execução constante."
   ]
  },
  {
   "cell_type": "code",
   "execution_count": 1,
   "id": "ddc8a6f8-e3ed-4ad4-8d9c-c65799652db6",
   "metadata": {},
   "outputs": [],
   "source": [
    "import asyncio\n",
    "from ascon import _ascon \n",
    "import secrets\n",
    "import nest_asyncio\n",
    "nest_asyncio.apply()"
   ]
  },
  {
   "cell_type": "markdown",
   "id": "a2472100",
   "metadata": {},
   "source": [
    "A biblioteca Secrets do python fornece a fonte mais segura de aleatoriedade que o sistema operacional fornece, é utilizada para gerar numeros aleatórios criptograficamente fortes.\n",
    "\n",
    "Neste caso, utilizamos para gerar uma seed de 32 bytes que deverá ser passada ao emissor e receptor para gerar as chaves e os nonces. "
   ]
  },
  {
   "cell_type": "code",
   "execution_count": 2,
   "id": "b36a6f46",
   "metadata": {},
   "outputs": [],
   "source": [
    "seed = secrets.token_bytes(32)"
   ]
  },
  {
   "cell_type": "markdown",
   "id": "bd059a58",
   "metadata": {},
   "source": [
    "Função para gerar chaves\n",
    "\n",
    "A função hash Ascon-XOF, baseada em esponja, oferece uma maneira inovadora e segura de gerar chaves e nounce. Ela absorve a mensagem de entrada em blocos de 64 bits e \"espreme\" um valor de hash de 64 bits, ideal para diversos algoritmos criptográficos. O Ascon-XOF foi selecionado como finalista no NIST Lightweight Cryptography Competition por sua segurança e eficiência, sendo ideal para dispositivos com recursos limitados.\n",
    "\n",
    "Foi implementada por nós utilizando 16 bytes, ou seja, 128 bits, que é o tamanho recomendado pelos desenvolvedores do Ascon"
   ]
  },
  {
   "cell_type": "code",
   "execution_count": 3,
   "id": "b5f08706",
   "metadata": {},
   "outputs": [],
   "source": [
    "def generate_keys(seed):\n",
    "    key = _ascon.ascon_hash(seed, variant = \"Ascon-Xof\", hashlength=16)\n",
    "    nonce = _ascon.ascon_hash(seed, variant=\"Ascon-Xof\", hashlength=16)\n",
    "\n",
    "    return key, nonce"
   ]
  },
  {
   "cell_type": "markdown",
   "id": "65a7645f",
   "metadata": {},
   "source": [
    "Função para cifrar\n",
    "\n",
    "Para a cifragem o ascon també utiliza o modo baseado em esponja dupla e para fazer isso:\n",
    "    "
   ]
  },
  {
   "cell_type": "markdown",
   "id": "45b21759",
   "metadata": {},
   "source": [
    "1. É inicializado o estado com a chave K e o nonce N\n",
    "    "
   ]
  },
  {
   "cell_type": "markdown",
   "id": "3952a244",
   "metadata": {},
   "source": [
    "2. Atualiza o estado com os blocos de dados correlacionados\n",
    "    "
   ]
  },
  {
   "cell_type": "markdown",
   "id": "405bd37a",
   "metadata": {},
   "source": [
    "3. Injeta a mensagem e extrai os blocos cifrados\n",
    "    "
   ]
  },
  {
   "cell_type": "markdown",
   "id": "d72feaa9",
   "metadata": {},
   "source": [
    "4. Injeta a chave novamente e extrai a tag para autenticação\n",
    "\n",
    "Após cada bloco (exceto o primeiro) a permutação Pb é aplicada no estado completo. Já durante a inicialização e finalização uma permutação mais forte (Pa) com mais rounds é utilizada, o numero de rounds e da taxa da esponja depende da variante. \n",
    "\n",
    "Neste exercício, utilizamos a variante \"Ascon-128\" que possui a taxa de 64 bits, e os rounds para Pa 12 e Pb 6. "
   ]
  },
  {
   "cell_type": "code",
   "execution_count": 4,
   "id": "3a75520e",
   "metadata": {},
   "outputs": [],
   "source": [
    "def encrypt_and_authenticate(key, nonce, data, associated_data=b''):\n",
    "    cipher = _ascon.ascon_encrypt(key, nonce=nonce,associateddata=associated_data, plaintext=data, variant=\"Ascon-128\")\n",
    "    return cipher"
   ]
  },
  {
   "cell_type": "markdown",
   "id": "3ef80bd4",
   "metadata": {},
   "source": [
    "Função para decifrar\n",
    "\n",
    "Esta função tem como objetivo fazer a decifragem da mensagem, para isto acontecer é necessário que seja passado o nounce e a key de tamanhos corretos para a função, bem como a mensagem cifrada e os dados correlacionados."
   ]
  },
  {
   "cell_type": "code",
   "execution_count": 5,
   "id": "13d54920",
   "metadata": {},
   "outputs": [],
   "source": [
    "def decrypt_and_verify(key, nonce, cipher_text, associated_data=b''):\n",
    "    plain_txt = _ascon.ascon_decrypt(key, nonce=nonce,associateddata=associated_data, ciphertext=cipher_text, variant=\"Ascon-128\")\n",
    "    return plain_txt"
   ]
  },
  {
   "cell_type": "markdown",
   "id": "521e2176",
   "metadata": {},
   "source": [
    "Emissor e recebedor\n",
    "\n",
    "Para o emissor e o recebedor utilizamos a biblioteca Asyncio para fazer rotinas concorrentes no Python.\n",
    "\n",
    "No emissor, definimos a chave e o nonce, definimos a mensagem e ciframos a mensagem. Para a conexão utilizamos o open_connection do asyncio para estabelecer uma conexão com o localhost na porta 8888, o objeto reader e writer são obtidos, onde o writer é usado para o envio da mensagem.\n",
    "\n",
    "No receptor, definimos a chave e o nonce e a mensagem é recebida pelo reader. Por fim utilizamos a chave, nonce e os dados recebidos para decifrar a mensagem, que é exibida na tela após a conclusão."
   ]
  },
  {
   "cell_type": "markdown",
   "id": "dd4cb5be",
   "metadata": {},
   "source": [
    "A função main() é usada para iniciar um servidor (receiver) que escuta na porta 8888, executamos o servidor de forma continua e o emissor de forma assincrona. \n",
    "\n",
    "Já o asyncio.run(main()) garante que o programa ficará em um loop de execução."
   ]
  },
  {
   "cell_type": "code",
   "execution_count": 6,
   "id": "1bdcba6d",
   "metadata": {},
   "outputs": [
    {
     "name": "stdout",
     "output_type": "stream",
     "text": [
      "b'\\xa0b\\xdb\\xfc\\xa0,\\xdbv\\xbfMy\\\\a\\xf4yo' b'\\xa0b\\xdb\\xfc\\xa0,\\xdbv\\xbfMy\\\\a\\xf4yo'\n",
      "Received and decrypted data: b'Hello, Receiver!'\n"
     ]
    }
   ],
   "source": [
    "async def emitter():\n",
    "    # Chaves do emissor\n",
    "\n",
    "    emitter_key, emitter_nonce = generate_keys(seed)\n",
    "    print(emitter_key,emitter_nonce)\n",
    "\n",
    "    # Mensagem a ser enviada\n",
    "    message = b\"Hello, Receiver!\"\n",
    "\n",
    "    # Criptar a mensagem\n",
    "    encrypted_message = encrypt_and_authenticate(emitter_key, emitter_nonce, message)\n",
    "\n",
    "    # Estabelecer conexão\n",
    "    reader, writer = await asyncio.open_connection('localhost', 8888)\n",
    "\n",
    "    # Enviar mensagem\n",
    "    writer.write(encrypted_message)\n",
    "    await writer.drain()\n",
    "\n",
    "    # Fechar conexão\n",
    "    writer.close()\n",
    "\n",
    "async def receiver(reader, writer):\n",
    "    # Chaves do recebedor\n",
    "    receiver_key, receiver_nonce = generate_keys(seed)\n",
    "\n",
    "    # Receber mensagem\n",
    "    data = await reader.read()\n",
    "\n",
    "    # Decifrar mensagem e exibir\n",
    "    decrypted_data = decrypt_and_verify(receiver_key, receiver_nonce, data)\n",
    "    print(f\"Received and decrypted data: {decrypted_data}\")\n",
    "\n",
    "async def main():\n",
    "    # Server receiver escutando na porta 8888\n",
    "    server = await asyncio.start_server(receiver, 'localhost', 8888)\n",
    "\n",
    "    # Rodar o server emissor\n",
    "    await asyncio.gather(server.serve_forever(), emitter())\n",
    "\n",
    "if __name__ == \"__main__\":\n",
    "    asyncio.run(main())\n",
    "    # loop = asyncio.get_event_loop()\n",
    "    # loop.run_until_complete(main())"
   ]
  }
 ],
 "metadata": {
  "kernelspec": {
   "display_name": "Python 3 (ipykernel)",
   "language": "python",
   "name": "python3"
  },
  "language_info": {
   "codemirror_mode": {
    "name": "ipython",
    "version": 3
   },
   "file_extension": ".py",
   "mimetype": "text/x-python",
   "name": "python",
   "nbconvert_exporter": "python",
   "pygments_lexer": "ipython3",
   "version": "3.12.1"
  }
 },
 "nbformat": 4,
 "nbformat_minor": 5
}
